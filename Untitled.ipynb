{
 "cells": [
  {
   "cell_type": "code",
   "execution_count": 1,
   "id": "2b8e8f25-de7f-4fa7-9dd4-43a4f9bab463",
   "metadata": {},
   "outputs": [
    {
     "name": "stderr",
     "output_type": "stream",
     "text": [
      "/Users/gianluca/Library/Python/3.9/lib/python/site-packages/urllib3/__init__.py:35: NotOpenSSLWarning: urllib3 v2 only supports OpenSSL 1.1.1+, currently the 'ssl' module is compiled with 'LibreSSL 2.8.3'. See: https://github.com/urllib3/urllib3/issues/3020\n",
      "  warnings.warn(\n"
     ]
    }
   ],
   "source": [
    "import requests"
   ]
  },
  {
   "cell_type": "code",
   "execution_count": 4,
   "id": "4145f037-acf9-44fe-8b12-14a188e56e7e",
   "metadata": {},
   "outputs": [],
   "source": [
    "data = '{\"username\":\"gianluca\", \"password\":\"admin\"}'\n",
    "header = {'Content-Type':'application/json'}\n",
    "r = requests.post('http://too-small-reminder.challs.olicyber.it/login', data=data, headers=header)"
   ]
  },
  {
   "cell_type": "code",
   "execution_count": 8,
   "id": "b227950d-13a7-4ecb-a194-66500db0081f",
   "metadata": {},
   "outputs": [
    {
     "data": {
      "text/plain": [
       "<RequestsCookieJar[]>"
      ]
     },
     "execution_count": 8,
     "metadata": {},
     "output_type": "execute_result"
    }
   ],
   "source": [
    "r.text\n",
    "r.cookies"
   ]
  },
  {
   "cell_type": "code",
   "execution_count": 9,
   "id": "5c1a62cf-4c81-487f-aa21-95a58ee9a749",
   "metadata": {},
   "outputs": [],
   "source": [
    "r = requests.get('http://too-small-reminder.challs.olicyber.it/admin', cookies = r.cookies)"
   ]
  },
  {
   "cell_type": "code",
   "execution_count": 10,
   "id": "17898adc-882a-4125-b4a6-2b6be9e75085",
   "metadata": {},
   "outputs": [
    {
     "data": {
      "text/plain": [
       "'{\"messaggio\":\"Cookie di sessione mancante (session_id non trovato)\"}\\n'"
      ]
     },
     "execution_count": 10,
     "metadata": {},
     "output_type": "execute_result"
    }
   ],
   "source": [
    "r.text"
   ]
  },
  {
   "cell_type": "code",
   "execution_count": null,
   "id": "f9bdb935-4b31-46da-99bb-febc11e116b9",
   "metadata": {},
   "outputs": [],
   "source": []
  }
 ],
 "metadata": {
  "kernelspec": {
   "display_name": "Python 3 (ipykernel)",
   "language": "python",
   "name": "python3"
  },
  "language_info": {
   "codemirror_mode": {
    "name": "ipython",
    "version": 3
   },
   "file_extension": ".py",
   "mimetype": "text/x-python",
   "name": "python",
   "nbconvert_exporter": "python",
   "pygments_lexer": "ipython3",
   "version": "3.9.6"
  }
 },
 "nbformat": 4,
 "nbformat_minor": 5
}
